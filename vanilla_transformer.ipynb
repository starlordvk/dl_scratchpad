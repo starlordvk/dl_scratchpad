{
 "cells": [
  {
   "cell_type": "code",
   "execution_count": 1,
   "metadata": {},
   "outputs": [],
   "source": [
    "import torch\n",
    "import torch.nn as nn\n",
    "import math"
   ]
  },
  {
   "cell_type": "code",
   "execution_count": 2,
   "metadata": {},
   "outputs": [],
   "source": [
    "class InputEmbeddings(nn.Module):\n",
    "  def __init__(self, d_model:int, vocab_size:int) -> None:\n",
    "    super().__init__()\n",
    "    self.d_model = d_model\n",
    "    self.vocab_size = vocab_size\n",
    "    self.embedding = nn.Embedding(vocab_size, d_model)\n",
    "\n",
    "  def forward(self, x):\n",
    "    return self.embedding(x) * math.sqrt(self.d_model)\n",
    "\n",
    "class PositionalEmbedding(nn.Module):\n",
    "  def __init__(self, maxlen:int, d_model:int, dropout:float) -> None:\n",
    "    super().__init__()\n",
    "    self.maxlen = maxlen\n",
    "    self.dropout = nn.Dropout(p=dropout)\n",
    "    self.d_model = d_model\n",
    "\n",
    "    # Position embedding matrix of shape (maxlen, d_model)\n",
    "    self.pos_emb = torch.zeros(maxlen, d_model)\n",
    "    # Position for each token in the sequence of shape (maxlen, 1)\n",
    "    position = torch.arange(0, maxlen, dtype=torch.float32).unsqueeze(1)\n",
    "    div = torch.exp(torch.arange(0, d_model, 2, dtype=torch.float32) * -(math.log(10000.0)/d_model))\n",
    "    # Positional embedding for each token in the sequence of shape (maxlen, d_model)\n",
    "    self.pos_emb[:, 0::2] = torch.sin(position*div)\n",
    "    self.pos_emb[:, 1::2] = torch.cos(position*div)\n",
    "    self.pos_emb = self.pos_emb.unsqueeze(0) # (1, maxlen, d_model)\n",
    "    # We don't want to update the positional embedding matrix during training, so we register it as a buffer.\n",
    "    self.register_buffer('pos_emb', self.pos_emb)\n",
    "\n",
    "  def forward(self, x):\n",
    "    # Add positional embedding to the input of shape (bsz, maxlen, d_model)\n",
    "    # Since position embedding is not trainable, we don't need to compute gradients for this tensor.\n",
    "    x = x + self.pos_emb[:, :x.shape(1), :].requires_grad_(False) # (bsz, maxlen, d_model)\n",
    "    return self.dropout(x)"
   ]
  },
  {
   "cell_type": "code",
   "execution_count": null,
   "metadata": {},
   "outputs": [],
   "source": []
  }
 ],
 "metadata": {
  "kernelspec": {
   "display_name": "pt21",
   "language": "python",
   "name": "python3"
  },
  "language_info": {
   "codemirror_mode": {
    "name": "ipython",
    "version": 3
   },
   "file_extension": ".py",
   "mimetype": "text/x-python",
   "name": "python",
   "nbconvert_exporter": "python",
   "pygments_lexer": "ipython3",
   "version": "3.11.0"
  }
 },
 "nbformat": 4,
 "nbformat_minor": 2
}
